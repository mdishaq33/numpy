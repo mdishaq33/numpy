{
  "nbformat": 4,
  "nbformat_minor": 0,
  "metadata": {
    "colab": {
      "provenance": [],
      "authorship_tag": "ABX9TyM+7pvm3GN9ahN3Ky0x+iDS",
      "include_colab_link": true
    },
    "kernelspec": {
      "name": "python3",
      "display_name": "Python 3"
    },
    "language_info": {
      "name": "python"
    }
  },
  "cells": [
    {
      "cell_type": "markdown",
      "metadata": {
        "id": "view-in-github",
        "colab_type": "text"
      },
      "source": [
        "<a href=\"https://colab.research.google.com/github/mdishaq33/numpy/blob/main/credit_card_fraud_detector_numpy.ipynb\" target=\"_parent\"><img src=\"https://colab.research.google.com/assets/colab-badge.svg\" alt=\"Open In Colab\"/></a>"
      ]
    },
    {
      "cell_type": "markdown",
      "source": [
        "Project Intro:\n",
        "Title: Credit Card Fraud Pattern Detector (Rule-Based)\n",
        "Goal: Identify unusual/suspicious spending patterns using NumPy filters.\n",
        "\n",
        "Final Output:\n",
        "List of suspicious transaction IDs\n",
        "\n",
        "Total suspicious amount\n",
        "\n",
        "Stats like average, max, and count of flagged transactions"
      ],
      "metadata": {
        "id": "BmovTlozg8C0"
      }
    },
    {
      "cell_type": "markdown",
      "source": [
        "But you can simulate basic rule-based detection like:\n",
        "\n",
        "Suspicious transactions (very high/low values)\n",
        "\n",
        "Too many transactions in short time\n",
        "\n",
        "Repeated same amount\n",
        "\n",
        "Spending outside usual range\n",
        "\n"
      ],
      "metadata": {
        "id": "bMTgnjIwhEtS"
      }
    },
    {
      "cell_type": "code",
      "source": [
        "import numpy as np\n",
        "\n",
        "# Number of transactions\n",
        "n = 100\n",
        "\n",
        "# Generate Transaction IDs (T1001, T1002, ...)\n",
        "transaction_ids = np.array([f\"T{1000 + i}\" for i in range(n)])\n",
        "\n",
        "# Random amounts between ₹100 and ₹10000\n",
        "amounts = np.random.randint(100, 10000, size=n)\n",
        "\n",
        "# Location codes (assume 5 regions)\n",
        "locations = np.random.randint(1, 6, size=n)\n",
        "\n",
        "# Time in 24hr format (0 to 23)\n",
        "times = np.random.randint(0, 24, size=n)\n",
        "\n",
        "# Stack into one structured format (optional view)\n",
        "for i in range(n):\n",
        "    print(f\"{transaction_ids[i]} | ₹{amounts[i]} | Location: {locations[i]} | Hour: {times[i]}\")\n"
      ],
      "metadata": {
        "colab": {
          "base_uri": "https://localhost:8080/"
        },
        "id": "o8Us0OAThHag",
        "outputId": "932c0c72-4739-4437-8cde-2da01a5d3741"
      },
      "execution_count": null,
      "outputs": [
        {
          "output_type": "stream",
          "name": "stdout",
          "text": [
            "T1000 | ₹5638 | Location: 2 | Hour: 14\n",
            "T1001 | ₹2951 | Location: 2 | Hour: 7\n",
            "T1002 | ₹9418 | Location: 4 | Hour: 14\n",
            "T1003 | ₹2019 | Location: 5 | Hour: 14\n",
            "T1004 | ₹3748 | Location: 2 | Hour: 12\n",
            "T1005 | ₹2667 | Location: 1 | Hour: 15\n",
            "T1006 | ₹8670 | Location: 2 | Hour: 18\n",
            "T1007 | ₹6787 | Location: 5 | Hour: 6\n",
            "T1008 | ₹6472 | Location: 3 | Hour: 2\n",
            "T1009 | ₹734 | Location: 4 | Hour: 18\n",
            "T1010 | ₹8032 | Location: 2 | Hour: 10\n",
            "T1011 | ₹1525 | Location: 4 | Hour: 19\n",
            "T1012 | ₹157 | Location: 1 | Hour: 22\n",
            "T1013 | ₹4804 | Location: 2 | Hour: 13\n",
            "T1014 | ₹2610 | Location: 2 | Hour: 14\n",
            "T1015 | ₹9874 | Location: 5 | Hour: 8\n",
            "T1016 | ₹7352 | Location: 1 | Hour: 7\n",
            "T1017 | ₹5829 | Location: 5 | Hour: 7\n",
            "T1018 | ₹6526 | Location: 4 | Hour: 23\n",
            "T1019 | ₹4098 | Location: 5 | Hour: 22\n",
            "T1020 | ₹4447 | Location: 2 | Hour: 8\n",
            "T1021 | ₹1341 | Location: 1 | Hour: 20\n",
            "T1022 | ₹9601 | Location: 3 | Hour: 15\n",
            "T1023 | ₹3812 | Location: 3 | Hour: 18\n",
            "T1024 | ₹5863 | Location: 4 | Hour: 2\n",
            "T1025 | ₹6270 | Location: 2 | Hour: 20\n",
            "T1026 | ₹3770 | Location: 5 | Hour: 10\n",
            "T1027 | ₹5983 | Location: 3 | Hour: 9\n",
            "T1028 | ₹1521 | Location: 5 | Hour: 7\n",
            "T1029 | ₹1819 | Location: 5 | Hour: 19\n",
            "T1030 | ₹8280 | Location: 1 | Hour: 22\n",
            "T1031 | ₹6235 | Location: 5 | Hour: 15\n",
            "T1032 | ₹5160 | Location: 4 | Hour: 22\n",
            "T1033 | ₹8654 | Location: 5 | Hour: 10\n",
            "T1034 | ₹3451 | Location: 1 | Hour: 2\n",
            "T1035 | ₹8112 | Location: 1 | Hour: 15\n",
            "T1036 | ₹891 | Location: 2 | Hour: 22\n",
            "T1037 | ₹8842 | Location: 1 | Hour: 16\n",
            "T1038 | ₹1186 | Location: 4 | Hour: 0\n",
            "T1039 | ₹9888 | Location: 4 | Hour: 3\n",
            "T1040 | ₹9252 | Location: 3 | Hour: 1\n",
            "T1041 | ₹2923 | Location: 1 | Hour: 12\n",
            "T1042 | ₹202 | Location: 2 | Hour: 23\n",
            "T1043 | ₹8050 | Location: 3 | Hour: 16\n",
            "T1044 | ₹743 | Location: 2 | Hour: 23\n",
            "T1045 | ₹8951 | Location: 1 | Hour: 9\n",
            "T1046 | ₹2875 | Location: 2 | Hour: 21\n",
            "T1047 | ₹996 | Location: 4 | Hour: 7\n",
            "T1048 | ₹4867 | Location: 4 | Hour: 23\n",
            "T1049 | ₹3966 | Location: 3 | Hour: 11\n",
            "T1050 | ₹4141 | Location: 5 | Hour: 14\n",
            "T1051 | ₹2818 | Location: 2 | Hour: 7\n",
            "T1052 | ₹273 | Location: 3 | Hour: 17\n",
            "T1053 | ₹6891 | Location: 4 | Hour: 15\n",
            "T1054 | ₹3074 | Location: 2 | Hour: 6\n",
            "T1055 | ₹3826 | Location: 5 | Hour: 18\n",
            "T1056 | ₹3751 | Location: 3 | Hour: 12\n",
            "T1057 | ₹4507 | Location: 5 | Hour: 10\n",
            "T1058 | ₹297 | Location: 1 | Hour: 23\n",
            "T1059 | ₹2718 | Location: 4 | Hour: 1\n",
            "T1060 | ₹4880 | Location: 1 | Hour: 5\n",
            "T1061 | ₹3296 | Location: 1 | Hour: 23\n",
            "T1062 | ₹1110 | Location: 2 | Hour: 12\n",
            "T1063 | ₹6744 | Location: 1 | Hour: 18\n",
            "T1064 | ₹4501 | Location: 3 | Hour: 20\n",
            "T1065 | ₹2002 | Location: 4 | Hour: 21\n",
            "T1066 | ₹9887 | Location: 5 | Hour: 18\n",
            "T1067 | ₹4658 | Location: 1 | Hour: 8\n",
            "T1068 | ₹8275 | Location: 4 | Hour: 22\n",
            "T1069 | ₹8408 | Location: 5 | Hour: 11\n",
            "T1070 | ₹5400 | Location: 2 | Hour: 18\n",
            "T1071 | ₹8798 | Location: 2 | Hour: 8\n",
            "T1072 | ₹1758 | Location: 1 | Hour: 7\n",
            "T1073 | ₹5339 | Location: 1 | Hour: 10\n",
            "T1074 | ₹1972 | Location: 5 | Hour: 14\n",
            "T1075 | ₹8481 | Location: 3 | Hour: 16\n",
            "T1076 | ₹2112 | Location: 4 | Hour: 17\n",
            "T1077 | ₹1950 | Location: 1 | Hour: 18\n",
            "T1078 | ₹3333 | Location: 4 | Hour: 13\n",
            "T1079 | ₹6026 | Location: 2 | Hour: 17\n",
            "T1080 | ₹329 | Location: 4 | Hour: 0\n",
            "T1081 | ₹8927 | Location: 5 | Hour: 1\n",
            "T1082 | ₹5766 | Location: 5 | Hour: 12\n",
            "T1083 | ₹3537 | Location: 3 | Hour: 12\n",
            "T1084 | ₹1243 | Location: 1 | Hour: 3\n",
            "T1085 | ₹1704 | Location: 4 | Hour: 12\n",
            "T1086 | ₹9305 | Location: 3 | Hour: 17\n",
            "T1087 | ₹463 | Location: 1 | Hour: 14\n",
            "T1088 | ₹6861 | Location: 4 | Hour: 12\n",
            "T1089 | ₹5516 | Location: 2 | Hour: 12\n",
            "T1090 | ₹977 | Location: 4 | Hour: 23\n",
            "T1091 | ₹994 | Location: 1 | Hour: 17\n",
            "T1092 | ₹5108 | Location: 5 | Hour: 9\n",
            "T1093 | ₹5233 | Location: 3 | Hour: 16\n",
            "T1094 | ₹8284 | Location: 2 | Hour: 12\n",
            "T1095 | ₹2170 | Location: 5 | Hour: 22\n",
            "T1096 | ₹8917 | Location: 1 | Hour: 0\n",
            "T1097 | ₹8261 | Location: 2 | Hour: 7\n",
            "T1098 | ₹2792 | Location: 1 | Hour: 22\n",
            "T1099 | ₹6817 | Location: 4 | Hour: 20\n"
          ]
        }
      ]
    },
    {
      "cell_type": "markdown",
      "source": [
        "Step 2: Apply Fraud Detection Rules\n",
        "Let’s define simple rules to flag transactions:\n",
        "\n",
        "Rules:\n",
        "High-value transactions: Amount > ₹8000\n",
        "\n",
        "Odd-hour transactions: Time between 0 AM – 4 AM\n",
        "\n",
        "Both conditions together = HIGH RISK"
      ],
      "metadata": {
        "id": "qTfIKGgalZgl"
      }
    },
    {
      "cell_type": "code",
      "source": [
        "high_amount=amounts>8000\n",
        "odd_hour = (times >= 0) & (times <= 4)\n",
        "high_risk=high_amount+odd_hour\n",
        "print(\"high risk transactions\")\n",
        "for i in range(n):\n",
        "  if high_risk[i]:\n",
        "    print(f\"{transaction_ids[i]} | {amounts[i]} | {locations [i]} | {times[i]}\")"
      ],
      "metadata": {
        "colab": {
          "base_uri": "https://localhost:8080/"
        },
        "id": "-p3MmZunlb-6",
        "outputId": "b58bac03-55c6-4875-a2fd-2223060b2381"
      },
      "execution_count": null,
      "outputs": [
        {
          "output_type": "stream",
          "name": "stdout",
          "text": [
            "high risk transactions\n",
            "T1002 | 9418 | 4 | 14\n",
            "T1006 | 8670 | 2 | 18\n",
            "T1008 | 6472 | 3 | 2\n",
            "T1010 | 8032 | 2 | 10\n",
            "T1015 | 9874 | 5 | 8\n",
            "T1022 | 9601 | 3 | 15\n",
            "T1024 | 5863 | 4 | 2\n",
            "T1030 | 8280 | 1 | 22\n",
            "T1033 | 8654 | 5 | 10\n",
            "T1034 | 3451 | 1 | 2\n",
            "T1035 | 8112 | 1 | 15\n",
            "T1037 | 8842 | 1 | 16\n",
            "T1038 | 1186 | 4 | 0\n",
            "T1039 | 9888 | 4 | 3\n",
            "T1040 | 9252 | 3 | 1\n",
            "T1043 | 8050 | 3 | 16\n",
            "T1045 | 8951 | 1 | 9\n",
            "T1059 | 2718 | 4 | 1\n",
            "T1066 | 9887 | 5 | 18\n",
            "T1068 | 8275 | 4 | 22\n",
            "T1069 | 8408 | 5 | 11\n",
            "T1071 | 8798 | 2 | 8\n",
            "T1075 | 8481 | 3 | 16\n",
            "T1080 | 329 | 4 | 0\n",
            "T1081 | 8927 | 5 | 1\n",
            "T1084 | 1243 | 1 | 3\n",
            "T1086 | 9305 | 3 | 17\n",
            "T1094 | 8284 | 2 | 12\n",
            "T1096 | 8917 | 1 | 0\n",
            "T1097 | 8261 | 2 | 7\n"
          ]
        }
      ]
    },
    {
      "cell_type": "markdown",
      "source": [
        "Step 3: Summarize Fraud Detection Results"
      ],
      "metadata": {
        "id": "PjmNdPTjJjG7"
      }
    },
    {
      "cell_type": "code",
      "source": [
        "# Total high-risk transactions\n",
        "total_high_risk = np.sum(high_risk)\n",
        "print(\"Total High-Risk Transactions:\", total_high_risk)\n",
        "\n",
        "# Total amount involved\n",
        "total_amount_flagged = np.sum(amounts[high_risk])\n",
        "print(\"Total Amount Flagged: ₹\", total_amount_flagged)\n",
        "\n",
        "# Average value of flagged transactions\n",
        "avg_flagged = np.mean(amounts[high_risk]) if total_high_risk > 0 else 0\n",
        "print(\"Average Flagged Transaction: ₹\", round(avg_flagged, 2))"
      ],
      "metadata": {
        "colab": {
          "base_uri": "https://localhost:8080/"
        },
        "id": "wcGSctzuJj_N",
        "outputId": "5f558c88-7c73-4d8c-d6e3-95d60b43d71d"
      },
      "execution_count": null,
      "outputs": [
        {
          "output_type": "stream",
          "name": "stdout",
          "text": [
            "Total High-Risk Transactions: 30\n",
            "Total Amount Flagged: ₹ 224429\n",
            "Average Flagged Transaction: ₹ 7480.97\n"
          ]
        }
      ]
    },
    {
      "cell_type": "code",
      "source": [],
      "metadata": {
        "id": "Cq7W9e23JuDZ"
      },
      "execution_count": null,
      "outputs": []
    }
  ]
}